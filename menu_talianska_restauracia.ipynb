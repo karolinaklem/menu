{
  "nbformat": 4,
  "nbformat_minor": 0,
  "metadata": {
    "colab": {
      "provenance": [],
      "include_colab_link": true
    },
    "kernelspec": {
      "name": "python3",
      "display_name": "Python 3"
    },
    "language_info": {
      "name": "python"
    }
  },
  "cells": [
    {
      "cell_type": "markdown",
      "metadata": {
        "id": "view-in-github",
        "colab_type": "text"
      },
      "source": [
        "<a href=\"https://colab.research.google.com/github/karolinaklem/menu/blob/main/menu_talianska_restauracia.ipynb\" target=\"_parent\"><img src=\"https://colab.research.google.com/assets/colab-badge.svg\" alt=\"Open In Colab\"/></a>"
      ]
    },
    {
      "cell_type": "markdown",
      "source": [
        "#**MENU**\n",
        "menu talianskej reštaurácie. Výber z ponuky a súčet objednávky\n"
      ],
      "metadata": {
        "id": "luvLKblPr3kA"
      }
    },
    {
      "cell_type": "code",
      "execution_count": null,
      "metadata": {
        "id": "JbWtMd_yrFMy"
      },
      "outputs": [],
      "source": [
        "def zobraz_menu():\n",
        "    print(\"🍝 Vitajte v talianskej reštaurácii La Bella Vita! 🇮🇹\")\n",
        "    print(\"----------------------------------------------------\")\n",
        "    print(\"PREDJEDLÁ:\")\n",
        "    print(\"1. Bruschetta - 4.50 €\")\n",
        "    print(\"2. Caprese šalát - 5.20 €\")\n",
        "\n",
        "    print(\"\\nHLAVNÉ JEDLÁ:\")\n",
        "    print(\"3. Spaghetti Carbonara - 9.90 €\")\n",
        "    print(\"4. Lasagne alla Bolognese - 10.50 €\")\n",
        "    print(\"5. Pizza Margherita - 8.70 €\")\n",
        "\n",
        "    print(\"\\nDEZERTY:\")\n",
        "    print(\"6. Tiramisu - 4.80 €\")\n",
        "    print(\"7. Panna Cotta - 4.20 €\")\n",
        "\n",
        "    print(\"\\nNÁPOJE:\")\n",
        "    print(\"8. Espresso - 2.00 €\")\n",
        "    print(\"9. Voda (0.5l) - 1.50 €\")\n",
        "    print(\"10. Červené víno - 3.50 €\")\n",
        "\n",
        "def objednavka():\n",
        "    objednane = []\n",
        "    ceny = {\n",
        "        1: 4.50, 2: 5.20, 3: 9.90, 4: 10.50, 5: 8.70,\n",
        "        6: 4.80, 7: 4.20, 8: 2.00, 9: 1.50, 10: 3.50\n",
        "    }\n",
        "\n",
        "    pokracuj = True\n",
        "    while pokracuj:\n",
        "        volba = input(\"Zadaj číslo položky, ktorú si želáš objednať (alebo 'q' pre ukončenie): \")\n",
        "        if volba.lower() == 'q':\n",
        "            pokracuj = False\n",
        "        elif volba.isdigit() and int(volba) in ceny:\n",
        "            objednane.append(int(volba))\n",
        "            print(\"Položka pridaná do objednávky.\")\n",
        "        else:\n",
        "            print(\"Neplatná voľba, skús znova.\")\n",
        "\n",
        "    # Výpočet ceny\n",
        "    if objednane:\n",
        "        print(\"\\n🧾 Tvoja objednávka:\")\n",
        "        celkova_cena = 0\n",
        "        for cislo in objednane:\n",
        "            cena = ceny[cislo]\n",
        "            celkova_cena += cena\n",
        "        print(f\"Počet položiek: {len(objednane)}\")\n",
        "        print(f\"Spolu na zaplatenie: {celkova_cena:.2f} €\")\n",
        "    else:\n",
        "        print(\"\\nNeobjednal/a si si nič.\")\n",
        "\n",
        "# Spustenie programu\n",
        "zobraz_menu()\n",
        "objednavka()"
      ]
    }
  ]
}